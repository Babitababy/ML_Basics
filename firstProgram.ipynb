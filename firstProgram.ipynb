{
 "cells": [
  {
   "cell_type": "code",
   "execution_count": 48,
   "metadata": {},
   "outputs": [
    {
     "name": "stdout",
     "output_type": "stream",
     "text": [
      "Hello world\n"
     ]
    }
   ],
   "source": [
    "print(\"Hello world\")"
   ]
  },
  {
   "cell_type": "code",
   "execution_count": 4,
   "metadata": {},
   "outputs": [
    {
     "name": "stdout",
     "output_type": "stream",
     "text": [
      "babita 20\n"
     ]
    }
   ],
   "source": [
    "var1=20\n",
    "name='babita'\n",
    "print(name + ' '+str(var1))"
   ]
  },
  {
   "cell_type": "code",
   "execution_count": 12,
   "metadata": {},
   "outputs": [
    {
     "name": "stdout",
     "output_type": "stream",
     "text": [
      "Enter first number5\n",
      "Enter Second Number2\n",
      "7\n",
      "3\n",
      "10\n",
      "1\n",
      "2\n"
     ]
    }
   ],
   "source": [
    "num1=int(input(\"Enter first number\"))\n",
    "num2=int(input(\"Enter Second Number\"))\n",
    "print(num1+num2)\n",
    "print(num1-num2)\n",
    "print(num1*num2)\n",
    "print(num1%num2)\n",
    "print(num1//num2)"
   ]
  },
  {
   "cell_type": "code",
   "execution_count": 23,
   "metadata": {},
   "outputs": [
    {
     "ename": "SyntaxError",
     "evalue": "EOL while scanning string literal (<ipython-input-23-d4a70c8cd3cd>, line 3)",
     "output_type": "error",
     "traceback": [
      "\u001b[1;36m  File \u001b[1;32m\"<ipython-input-23-d4a70c8cd3cd>\"\u001b[1;36m, line \u001b[1;32m3\u001b[0m\n\u001b[1;33m    message=var2+' '+var3+' . H\u001b[0m\n\u001b[1;37m                               ^\u001b[0m\n\u001b[1;31mSyntaxError\u001b[0m\u001b[1;31m:\u001b[0m EOL while scanning string literal\n"
     ]
    }
   ],
   "source": [
    "var2='hello'\n",
    "var3='world'\n",
    "message=var2+' '+var3+' . H\n",
    "ow are you?'\n",
    "print(message)\n"
   ]
  },
  {
   "cell_type": "code",
   "execution_count": 22,
   "metadata": {},
   "outputs": [
    {
     "name": "stdout",
     "output_type": "stream",
     "text": [
      "hello world. How are you?\n"
     ]
    }
   ],
   "source": [
    "var2='hello'\n",
    "var3='world'\n",
    "message='{} {}. How are you?'.format(var2,var3)\n",
    "print(message)"
   ]
  },
  {
   "cell_type": "code",
   "execution_count": 25,
   "metadata": {},
   "outputs": [
    {
     "name": "stdout",
     "output_type": "stream",
     "text": [
      "hello world .How are you?\n"
     ]
    }
   ],
   "source": [
    "message=f'{var2} {var3} .How are you?'\n",
    "print(message)"
   ]
  },
  {
   "cell_type": "code",
   "execution_count": 39,
   "metadata": {},
   "outputs": [
    {
     "name": "stdout",
     "output_type": "stream",
     "text": [
      "<class 'str'>\n",
      "babita kumari\n",
      "BABITA KUMARI\n",
      "13\n",
      "13\n",
      "3\n",
      "7\n",
      "a\n",
      "Bbt \n"
     ]
    }
   ],
   "source": [
    "name='Babita kumari'\n",
    "print(type(name))\n",
    "print(name.lower())\n",
    "print(name.upper())\n",
    "print(name.__len__())\n",
    "print(len(name))\n",
    "print(name.count('a'))\n",
    "print(name.find('kumari'))\n",
    "print(name[5])\n",
    "print(name[0:8:2])"
   ]
  },
  {
   "cell_type": "code",
   "execution_count": 43,
   "metadata": {},
   "outputs": [
    {
     "name": "stdout",
     "output_type": "stream",
     "text": [
      "1 value's square is 1 and cube is 1\n",
      "2 value's square is 4 and cube is 8\n",
      "3 value's square is 9 and cube is 27\n",
      "4 value's square is 16 and cube is 64\n",
      "5 value's square is 25 and cube is 125\n",
      "6 value's square is 36 and cube is 216\n",
      "7 value's square is 49 and cube is 343\n",
      "8 value's square is 64 and cube is 512\n",
      "9 value's square is 81 and cube is 729\n",
      "10 value's square is 100 and cube is 1000\n",
      "11 value's square is 121 and cube is 1331\n"
     ]
    }
   ],
   "source": [
    "for i in range (1,12):\n",
    "    print(\"{} value's square is {} and cube is {}\".format(i,i**2,i**3))"
   ]
  },
  {
   "cell_type": "code",
   "execution_count": 46,
   "metadata": {},
   "outputs": [
    {
     "name": "stdout",
     "output_type": "stream",
     "text": [
      "9\n"
     ]
    }
   ],
   "source": [
    "def function1(var1 , var2):\n",
    "    var3=var1+var2\n",
    "    print(var3)\n",
    "\n",
    "function1(4,5)"
   ]
  },
  {
   "cell_type": "code",
   "execution_count": 51,
   "metadata": {},
   "outputs": [
    {
     "name": "stdout",
     "output_type": "stream",
     "text": [
      "Enter your name2\n",
      "4\n"
     ]
    }
   ],
   "source": [
    "message=int(input(\"Enter your name\"))\n",
    "message=message*2\n",
    "print( message )"
   ]
  },
  {
   "cell_type": "code",
   "execution_count": 53,
   "metadata": {},
   "outputs": [
    {
     "name": "stdout",
     "output_type": "stream",
     "text": [
      "hii\tkha\tho\tsb\tjinda\tho\tki\thi\n"
     ]
    }
   ],
   "source": [
    "mess=\"hii\\tkha\\tho\\tsb\\tjinda\\tho\\tki\\thi\"\n",
    "print(mess)"
   ]
  },
  {
   "cell_type": "code",
   "execution_count": 55,
   "metadata": {},
   "outputs": [
    {
     "name": "stdout",
     "output_type": "stream",
     "text": [
      "what's your name?\n"
     ]
    }
   ],
   "source": [
    "print(\"what\\'s your name?\")"
   ]
  },
  {
   "cell_type": "code",
   "execution_count": 56,
   "metadata": {},
   "outputs": [
    {
     "name": "stdout",
     "output_type": "stream",
     "text": [
      "what's your name?\n"
     ]
    }
   ],
   "source": [
    "print(\"what's your name?\")"
   ]
  },
  {
   "cell_type": "code",
   "execution_count": 63,
   "metadata": {},
   "outputs": [
    {
     "name": "stdout",
     "output_type": "stream",
     "text": [
      "My name  is \"n\" \n"
     ]
    }
   ],
   "source": [
    "n=\"Babbi\"\n",
    "print(\"My name  is \\\"n\\\" \")"
   ]
  },
  {
   "cell_type": "code",
   "execution_count": 66,
   "metadata": {},
   "outputs": [
    {
     "name": "stdout",
     "output_type": "stream",
     "text": [
      "hii\n",
      "hallo dear\n",
      "welcome\n",
      "bachha\n"
     ]
    }
   ],
   "source": [
    "print('hii')\n",
    "print('hallo dear')\n",
    "print('''welcome\n",
    "bachha''')"
   ]
  },
  {
   "cell_type": "code",
   "execution_count": null,
   "metadata": {},
   "outputs": [],
   "source": []
  }
 ],
 "metadata": {
  "kernelspec": {
   "display_name": "Python 3",
   "language": "python",
   "name": "python3"
  },
  "language_info": {
   "codemirror_mode": {
    "name": "ipython",
    "version": 3
   },
   "file_extension": ".py",
   "mimetype": "text/x-python",
   "name": "python",
   "nbconvert_exporter": "python",
   "pygments_lexer": "ipython3",
   "version": "3.8.3"
  }
 },
 "nbformat": 4,
 "nbformat_minor": 4
}
